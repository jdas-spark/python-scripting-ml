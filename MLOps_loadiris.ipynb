{
 "cells": [
  {
   "cell_type": "code",
   "execution_count": 7,
   "id": "3718fb67-7993-41dd-bed3-25e0b86fdd8a",
   "metadata": {},
   "outputs": [
    {
     "name": "stderr",
     "output_type": "stream",
     "text": [
      "[I 2025-09-10 14:15:08,672] A new study created in memory with name: no-name-b05e7b23-4be5-4ef6-9623-fc20001e975c\n"
     ]
    },
    {
     "name": "stdout",
     "output_type": "stream",
     "text": [
      "step1\n",
      "Dataset compacted: 150 rows, 5 columns\n",
      "step2\n"
     ]
    },
    {
     "name": "stderr",
     "output_type": "stream",
     "text": [
      "[I 2025-09-10 14:15:08,914] Trial 0 finished with value: 0.9333333333333333 and parameters: {'n_estimators': 94, 'max_depth': 7}. Best is trial 0 with value: 0.9333333333333333.\n",
      "[I 2025-09-10 14:15:09,314] Trial 1 finished with value: 0.9333333333333333 and parameters: {'n_estimators': 187, 'max_depth': 19}. Best is trial 0 with value: 0.9333333333333333.\n",
      "[I 2025-09-10 14:15:09,694] Trial 2 finished with value: 0.9666666666666667 and parameters: {'n_estimators': 164, 'max_depth': 3}. Best is trial 2 with value: 0.9666666666666667.\n",
      "[I 2025-09-10 14:15:09,768] Trial 3 finished with value: 0.9333333333333333 and parameters: {'n_estimators': 36, 'max_depth': 13}. Best is trial 2 with value: 0.9666666666666667.\n",
      "[I 2025-09-10 14:15:09,967] Trial 4 finished with value: 0.9333333333333333 and parameters: {'n_estimators': 93, 'max_depth': 7}. Best is trial 2 with value: 0.9666666666666667.\n"
     ]
    },
    {
     "name": "stdout",
     "output_type": "stream",
     "text": [
      "step3\n",
      "Best params found: {'n_estimators': 164, 'max_depth': 3}\n"
     ]
    },
    {
     "name": "stderr",
     "output_type": "stream",
     "text": [
      "2025/09/10 14:15:10 WARNING mlflow.models.model: `artifact_path` is deprecated. Please use `name` instead.\n",
      "2025/09/10 14:15:13 WARNING mlflow.models.model: Model logged without a signature and input example. Please set `input_example` parameter when logging the model to auto infer the model signature.\n",
      "Registered model 'iris_rf_model' already exists. Creating a new version of this model...\n",
      "2025/09/10 14:15:13 WARNING mlflow.tracking._model_registry.fluent: Run with id 645926febfd1428286939cefcd9a9f99 has no artifacts at artifact path 'model', registering model based on models:/m-146dc5d8a71d42339bf59576be076650 instead\n"
     ]
    },
    {
     "name": "stdout",
     "output_type": "stream",
     "text": [
      "step4\n"
     ]
    },
    {
     "name": "stderr",
     "output_type": "stream",
     "text": [
      "2025/09/10 14:15:14 INFO mlflow.store.model_registry.abstract_store: Waiting up to 300 seconds for model version to finish creation. Model name: iris_rf_model, version 6\n",
      "Created version '6' of model 'iris_rf_model'.\n"
     ]
    },
    {
     "name": "stdout",
     "output_type": "stream",
     "text": [
      "step5\n",
      "🏃 View run legendary-frog-82 at: http://127.0.0.1:5000/#/experiments/204415308566175607/runs/645926febfd1428286939cefcd9a9f99\n",
      "🧪 View experiment at: http://127.0.0.1:5000/#/experiments/204415308566175607\n",
      "✅ Model iris_rf_model version 6 logged with accuracy=0.9667\n"
     ]
    }
   ],
   "source": [
    "\"\"\"\n",
    "Executable end-to-end ML pipeline using sklearn Iris dataset.\n",
    "Simulates solutions for:\n",
    "1. I/O bottlenecks (compact dataset)\n",
    "2. Feature duplication (feature store reuse)\n",
    "3. Slow sweeps (Optuna tuning)\n",
    "4. Dataset lineage (log dataset version)\n",
    "5. Model governance (MLflow registry)\n",
    "\"\"\"\n",
    "#pip install scikit-learn optuna mlflow pandas\n",
    "import mlflow\n",
    "from mlflow.tracking import MlflowClient\n",
    "import mlflow.sklearn\n",
    "import optuna\n",
    "from sklearn.datasets import load_iris\n",
    "from sklearn.ensemble import RandomForestClassifier\n",
    "from sklearn.model_selection import train_test_split\n",
    "from sklearn.metrics import accuracy_score\n",
    "import pandas as pd\n",
    "import warnings\n",
    "warnings.filterwarnings(\"ignore\", message=\".*\")\n",
    "\n",
    "# === Configuration ===\n",
    "MODEL_NAME = \"iris_rf_model\"\n",
    "DATASET_VERSION = \"iris_v1\"  # Simulated dataset version\n",
    "MLFLOW_EXPERIMENT = \"iris_mlflow_experiment\"\n",
    "# Set remote/local MLflow tracking server\n",
    "mlflow.set_tracking_uri(\"http://127.0.0.1:5000\")\n",
    "mlflow.set_experiment(MLFLOW_EXPERIMENT)\n",
    "client = MlflowClient()\n",
    "\n",
    "# -----------------------------------------------------------\n",
    "# 1. FIX I/O bottlenecks (simulate compact dataset)\n",
    "# -----------------------------------------------------------\n",
    "iris = load_iris(as_frame=True)\n",
    "df = iris.frame.copy()\n",
    "df[\"target\"] = iris.target\n",
    "print(\"step1\")\n",
    "# Instead of many small files, keep one clean DataFrame\n",
    "print(f\"Dataset compacted: {df.shape[0]} rows, {df.shape[1]} columns\")\n",
    "\n",
    "# -----------------------------------------------------------\n",
    "# 2. FIX DUPLICATE FEATURES (simulate Feature Store reuse)\n",
    "# -----------------------------------------------------------\n",
    "# Simulate \"feature store\" by creating reusable feature DataFrame\n",
    "def create_feature_store(df: pd.DataFrame) -> pd.DataFrame:\n",
    "    feature_df = df.copy()\n",
    "    feature_df[\"sepal_area\"] = df[\"sepal length (cm)\"] * df[\"sepal width (cm)\"]\n",
    "    feature_df[\"petal_area\"] = df[\"petal length (cm)\"] * df[\"petal width (cm)\"]\n",
    "    return feature_df\n",
    "\n",
    "feature_store_df = create_feature_store(df)\n",
    "\n",
    "# Reuse features in training\n",
    "X = feature_store_df.drop(columns=[\"target\"])\n",
    "y = feature_store_df[\"target\"]\n",
    "\n",
    "X_train, X_val, y_train, y_val = train_test_split(\n",
    "    X, y, test_size=0.2, stratify=y, random_state=42\n",
    ")\n",
    "print(\"step2\")\n",
    "# -----------------------------------------------------------\n",
    "# 3. FIX SLOW SWEEPS (Optuna hyperparameter tuning)\n",
    "# -----------------------------------------------------------\n",
    "def objective(trial):\n",
    "    n_estimators = trial.suggest_int(\"n_estimators\", 10, 200)\n",
    "    max_depth = trial.suggest_int(\"max_depth\", 2, 20)\n",
    "    clf = RandomForestClassifier(\n",
    "        n_estimators=n_estimators,\n",
    "        max_depth=max_depth,\n",
    "        random_state=42,\n",
    "        n_jobs=-1\n",
    "    )\n",
    "    clf.fit(X_train, y_train)\n",
    "    preds = clf.predict(X_val)\n",
    "    return accuracy_score(y_val, preds)\n",
    "\n",
    "study = optuna.create_study(direction=\"maximize\")\n",
    "study.optimize(objective, n_trials=5, n_jobs=1)\n",
    "print(\"step3\")\n",
    "best_params = study.best_params\n",
    "print(\"Best params found:\", best_params)\n",
    "\n",
    "# -----------------------------------------------------------\n",
    "# 4 & 5. FIX LINEAGE + GOVERNANCE (MLflow registry)\n",
    "# -----------------------------------------------------------\n",
    "with mlflow.start_run() as run:\n",
    "    # Log dataset lineage\n",
    "    mlflow.set_tag(\"dataset_version\", DATASET_VERSION)\n",
    "    mlflow.set_tag(\"feature_table\", \"iris_feature_store\")\n",
    "\n",
    "    # Train final model\n",
    "    final_model = RandomForestClassifier(**best_params, random_state=42, n_jobs=-1)\n",
    "    final_model.fit(X_train, y_train)\n",
    "    preds = final_model.predict(X_val)\n",
    "    acc = accuracy_score(y_val, preds)\n",
    "\n",
    "    mlflow.log_metric(\"val_accuracy\", acc)\n",
    "    mlflow.log_params(best_params)\n",
    "\n",
    "    # Log + Register Model\n",
    "    mlflow.sklearn.log_model(final_model, \"model\")\n",
    "    print(\"step4\")\n",
    "    mv = mlflow.register_model(\n",
    "        model_uri = f\"runs:/{run.info.run_id}/model\",\n",
    "        name = MODEL_NAME\n",
    "    )\n",
    "    print(\"step5\")\n",
    "    # Governance tags\n",
    "    client.set_model_version_tag(MODEL_NAME, mv.version, \"owner\", \"ml_team\")\n",
    "    client.set_model_version_tag(MODEL_NAME, mv.version, \"dataset_version\", DATASET_VERSION)\n",
    "    client.set_model_version_tag(MODEL_NAME, mv.version, \"feature_table\", \"iris_feature_store\")\n",
    "\n",
    "# Remove this if no DB registry available\n",
    "# client.transition_model_version_stage(\n",
    "#     name=MODEL_NAME,\n",
    "#     version=mv.version,\n",
    "#     stage=\"Staging\"\n",
    "# )\n",
    "\n",
    "print(f\"✅ Model {MODEL_NAME} version {mv.version} logged with accuracy={acc:.4f}\")\n"
   ]
  },
  {
   "cell_type": "code",
   "execution_count": null,
   "id": "85983812-ee34-42e5-8c2e-198e92354fc0",
   "metadata": {},
   "outputs": [],
   "source": []
  }
 ],
 "metadata": {
  "kernelspec": {
   "display_name": "Python 3 (ipykernel)",
   "language": "python",
   "name": "python3"
  },
  "language_info": {
   "codemirror_mode": {
    "name": "ipython",
    "version": 3
   },
   "file_extension": ".py",
   "mimetype": "text/x-python",
   "name": "python",
   "nbconvert_exporter": "python",
   "pygments_lexer": "ipython3",
   "version": "3.11.9"
  }
 },
 "nbformat": 4,
 "nbformat_minor": 5
}
